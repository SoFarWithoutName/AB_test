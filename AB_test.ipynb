{
 "cells": [
  {
   "cell_type": "markdown",
   "metadata": {},
   "source": [
    " _В данном проекте:_ \n",
    "- [x] [А/B-тестирование](#A/B–тестирование)\n",
    "- [x] [Функция подгрузки](#Функция-подгрузки)"
   ]
  },
  {
   "cell_type": "markdown",
   "metadata": {},
   "source": [
    "### <b>Загрузим библиотеки и вспомогающие функции:</b>\n",
    "--------------------------------------------------------"
   ]
  },
  {
   "cell_type": "code",
   "execution_count": 1,
   "metadata": {},
   "outputs": [],
   "source": [
    "import numpy as np\n",
    "import pandas as pd\n",
    "import pandahouse as ph\n",
    "import seaborn as sns\n",
    "import matplotlib.pyplot as plt\n",
    "from scipy.stats import ttest_ind\n",
    "from pingouin import chi2_independence\n",
    "from tqdm.auto import tqdm\n",
    "from scipy.stats import norm, mannwhitneyu\n",
    "\n",
    "# Библиотеки для функции отображения нескольких таблиц: \n",
    "from IPython.display import display_html\n",
    "from itertools import chain, cycle\n",
    "\n",
    "# Библиотеки для игнорирования ошибок:\n",
    "import warnings\n",
    "warnings.filterwarnings(\"ignore\")\n",
    "\n",
    "# Функция для отображения нескольких таблиц в одном окне:\n",
    "def display_side_by_side(*args, titles=cycle([''])):\n",
    "    html_str=''\n",
    "    for df,title in zip(args, chain(titles,cycle(['</br>'])) ):\n",
    "        html_str+='<th style=\"text-align:center\"><td style=\"vertical-align:top\">'\n",
    "        html_str+=f'<h2 style=\"text-align: center;\">{title}</h2>'\n",
    "        html_str+=df.to_html().replace('table','table style=\"display:inline\"')\n",
    "        html_str+='</td></th>'\n",
    "    display_html(html_str,raw=True)"
   ]
  },
  {
   "cell_type": "markdown",
   "metadata": {},
   "source": [
    "### <b>A/B–тестирование</b> \n",
    "\n",
    "#### 1.1 Постановка задачи \n",
    "________________________\n",
    "\n",
    "В ходе тестирования одной гипотезы целевой группе была предложена новая механика оплаты услуг на сайте, у контрольной группы оставалась базовая механика. Необходимо проанализировать итоги эксперимента и сделать вывод, стоит ли запускать новую механику оплаты на всех пользователей.\n",
    "Основное:\n",
    "- [x] Тестируем новую механику оплаты услуг на сайте\n",
    "- [x] Две группы: целевая и контрольная\n",
    "- [x] Используем метод A/B-тестирования "
   ]
  },
  {
   "cell_type": "markdown",
   "metadata": {},
   "source": [
    "#### 1.2 Входные данные\n",
    "_______________________\n",
    "Имеем 4 csv-файла:\n",
    "- [x] groups.csv - файл с информацией о принадлежности пользователя к контрольной или экспериментальной группе \n",
    "(А – контроль, B – целевая группа) \n",
    "- [x] groups_add.csv - дополнительный файл с пользователями, который вам прислали спустя 2 дня после передачи данных\n",
    "- [x] active_studs.csv - файл с информацией о пользователях, которые зашли на платформу в дни проведения эксперимента. \n",
    "- [x] checks.csv - файл с информацией об оплатах пользователей в дни проведения эксперимента. "
   ]
  },
  {
   "cell_type": "markdown",
   "metadata": {},
   "source": [
    "#### 1.3 Ходы решения:\n",
    "_____________\n",
    "- [ ] Загрузка данных \n",
    "- [ ] Проведение EDA \n",
    "- [ ] Объединяем и анализируем данные\n",
    "- [ ] Определение, анализ и А/Bтестирование метрик\n"
   ]
  },
  {
   "cell_type": "markdown",
   "metadata": {},
   "source": [
    "- [x] __Загружаем данные__ \n",
    "_______________"
   ]
  },
  {
   "cell_type": "code",
   "execution_count": 2,
   "metadata": {},
   "outputs": [],
   "source": [
    "groups=pd.read_csv('groups.csv', sep =';')\n",
    "gr_add=pd.read_csv('group_add.csv', sep =',')\n",
    "active=pd.read_csv('active_studs.csv', sep =';')\n",
    "checks=pd.read_csv('checks.csv', sep =';')"
   ]
  },
  {
   "cell_type": "markdown",
   "metadata": {},
   "source": [
    "- [x] __Проводим разведочный анализ данных EDA__\n",
    "__________________"
   ]
  },
  {
   "cell_type": "markdown",
   "metadata": {},
   "source": [
    "#### В данных имеем следующую информацию:\n",
    " - id пользователей\n",
    " - принадлежность пользователя к группе\n",
    " - допольнительных пользователей\n",
    " - id пользователей, кто зашел на платформу\n",
    " - id пользователей, кто купил продукт\n",
    " - доход с каждого пользователя\n"
   ]
  },
  {
   "cell_type": "markdown",
   "metadata": {},
   "source": [
    "##### Смотрим общую информацию датасетов\n",
    "-----------"
   ]
  },
  {
   "cell_type": "code",
   "execution_count": 3,
   "metadata": {},
   "outputs": [
    {
     "name": "stdout",
     "output_type": "stream",
     "text": [
      "<class 'pandas.core.frame.DataFrame'>\n",
      "RangeIndex: 74484 entries, 0 to 74483\n",
      "Data columns (total 2 columns):\n",
      " #   Column  Non-Null Count  Dtype \n",
      "---  ------  --------------  ----- \n",
      " 0   id      74484 non-null  int64 \n",
      " 1   grp     74484 non-null  object\n",
      "dtypes: int64(1), object(1)\n",
      "memory usage: 1.1+ MB\n",
      "<class 'pandas.core.frame.DataFrame'>\n",
      "RangeIndex: 92 entries, 0 to 91\n",
      "Data columns (total 2 columns):\n",
      " #   Column  Non-Null Count  Dtype \n",
      "---  ------  --------------  ----- \n",
      " 0   id      92 non-null     int64 \n",
      " 1   grp     92 non-null     object\n",
      "dtypes: int64(1), object(1)\n",
      "memory usage: 1.6+ KB\n",
      "<class 'pandas.core.frame.DataFrame'>\n",
      "RangeIndex: 8341 entries, 0 to 8340\n",
      "Data columns (total 1 columns):\n",
      " #   Column      Non-Null Count  Dtype\n",
      "---  ------      --------------  -----\n",
      " 0   student_id  8341 non-null   int64\n",
      "dtypes: int64(1)\n",
      "memory usage: 65.3 KB\n",
      "<class 'pandas.core.frame.DataFrame'>\n",
      "RangeIndex: 541 entries, 0 to 540\n",
      "Data columns (total 2 columns):\n",
      " #   Column      Non-Null Count  Dtype  \n",
      "---  ------      --------------  -----  \n",
      " 0   student_id  541 non-null    int64  \n",
      " 1   rev         541 non-null    float64\n",
      "dtypes: float64(1), int64(1)\n",
      "memory usage: 8.6 KB\n"
     ]
    }
   ],
   "source": [
    "groups.info()\n",
    "gr_add.info()\n",
    "active.info()\n",
    "checks.info()"
   ]
  },
  {
   "cell_type": "markdown",
   "metadata": {},
   "source": [
    "__Вывод:__   \n",
    "Название колонок в двух датасетах отличаются(далее приведём к одному типу)   \n",
    "Количество строк нормальное.   \n",
    "Пропущенных значений не выявлено.   \n",
    "Типы данных устраивают."
   ]
  },
  {
   "cell_type": "markdown",
   "metadata": {},
   "source": [
    "##### Смотрим количество уникальных значений:\n",
    "-----------"
   ]
  },
  {
   "cell_type": "code",
   "execution_count": 4,
   "metadata": {},
   "outputs": [
    {
     "data": {
      "text/html": [
       "<th style=\"text-align:center\"><td style=\"vertical-align:top\"><h2 style=\"text-align: center;\">groups</h2><table style=\"display:inline\" border=\"1\" class=\"dataframe\">\n",
       "  <thead>\n",
       "    <tr style=\"text-align: right;\">\n",
       "      <th></th>\n",
       "      <th>index</th>\n",
       "      <th>0</th>\n",
       "    </tr>\n",
       "  </thead>\n",
       "  <tbody>\n",
       "    <tr>\n",
       "      <th>0</th>\n",
       "      <td>id</td>\n",
       "      <td>74484</td>\n",
       "    </tr>\n",
       "    <tr>\n",
       "      <th>1</th>\n",
       "      <td>grp</td>\n",
       "      <td>2</td>\n",
       "    </tr>\n",
       "  </tbody>\n",
       "</table style=\"display:inline\"></td></th><th style=\"text-align:center\"><td style=\"vertical-align:top\"><h2 style=\"text-align: center;\">gr_add</h2><table style=\"display:inline\" border=\"1\" class=\"dataframe\">\n",
       "  <thead>\n",
       "    <tr style=\"text-align: right;\">\n",
       "      <th></th>\n",
       "      <th>index</th>\n",
       "      <th>0</th>\n",
       "    </tr>\n",
       "  </thead>\n",
       "  <tbody>\n",
       "    <tr>\n",
       "      <th>0</th>\n",
       "      <td>id</td>\n",
       "      <td>92</td>\n",
       "    </tr>\n",
       "    <tr>\n",
       "      <th>1</th>\n",
       "      <td>grp</td>\n",
       "      <td>2</td>\n",
       "    </tr>\n",
       "  </tbody>\n",
       "</table style=\"display:inline\"></td></th><th style=\"text-align:center\"><td style=\"vertical-align:top\"><h2 style=\"text-align: center;\">active</h2><table style=\"display:inline\" border=\"1\" class=\"dataframe\">\n",
       "  <thead>\n",
       "    <tr style=\"text-align: right;\">\n",
       "      <th></th>\n",
       "      <th>index</th>\n",
       "      <th>0</th>\n",
       "    </tr>\n",
       "  </thead>\n",
       "  <tbody>\n",
       "    <tr>\n",
       "      <th>0</th>\n",
       "      <td>student_id</td>\n",
       "      <td>8341</td>\n",
       "    </tr>\n",
       "  </tbody>\n",
       "</table style=\"display:inline\"></td></th><th style=\"text-align:center\"><td style=\"vertical-align:top\"><h2 style=\"text-align: center;\">checks</h2><table style=\"display:inline\" border=\"1\" class=\"dataframe\">\n",
       "  <thead>\n",
       "    <tr style=\"text-align: right;\">\n",
       "      <th></th>\n",
       "      <th>index</th>\n",
       "      <th>0</th>\n",
       "    </tr>\n",
       "  </thead>\n",
       "  <tbody>\n",
       "    <tr>\n",
       "      <th>0</th>\n",
       "      <td>student_id</td>\n",
       "      <td>541</td>\n",
       "    </tr>\n",
       "    <tr>\n",
       "      <th>1</th>\n",
       "      <td>rev</td>\n",
       "      <td>39</td>\n",
       "    </tr>\n",
       "  </tbody>\n",
       "</table style=\"display:inline\"></td></th>"
      ]
     },
     "metadata": {},
     "output_type": "display_data"
    }
   ],
   "source": [
    "display_side_by_side(groups.nunique().reset_index(),\n",
    "                        gr_add.nunique().reset_index(),\n",
    "                        active.nunique().reset_index(),\n",
    "                        checks.nunique().reset_index(),\n",
    "                        titles=['groups', 'gr_add','active', 'checks'])"
   ]
  },
  {
   "cell_type": "markdown",
   "metadata": {},
   "source": [
    "__Вывод:__     \n",
    "Количество уникальных значений совпадает с количеством строк в датасетах."
   ]
  },
  {
   "cell_type": "markdown",
   "metadata": {},
   "source": [
    "__Поиск пропущенных значений:__\n",
    "________________"
   ]
  },
  {
   "cell_type": "code",
   "execution_count": 5,
   "metadata": {},
   "outputs": [
    {
     "data": {
      "text/html": [
       "<th style=\"text-align:center\"><td style=\"vertical-align:top\"><h2 style=\"text-align: center;\">groups</h2><table style=\"display:inline\" border=\"1\" class=\"dataframe\">\n",
       "  <thead>\n",
       "    <tr style=\"text-align: right;\">\n",
       "      <th></th>\n",
       "      <th>index</th>\n",
       "      <th>0</th>\n",
       "    </tr>\n",
       "  </thead>\n",
       "  <tbody>\n",
       "    <tr>\n",
       "      <th>0</th>\n",
       "      <td>id</td>\n",
       "      <td>0</td>\n",
       "    </tr>\n",
       "    <tr>\n",
       "      <th>1</th>\n",
       "      <td>grp</td>\n",
       "      <td>0</td>\n",
       "    </tr>\n",
       "  </tbody>\n",
       "</table style=\"display:inline\"></td></th><th style=\"text-align:center\"><td style=\"vertical-align:top\"><h2 style=\"text-align: center;\">gr_add</h2><table style=\"display:inline\" border=\"1\" class=\"dataframe\">\n",
       "  <thead>\n",
       "    <tr style=\"text-align: right;\">\n",
       "      <th></th>\n",
       "      <th>index</th>\n",
       "      <th>0</th>\n",
       "    </tr>\n",
       "  </thead>\n",
       "  <tbody>\n",
       "    <tr>\n",
       "      <th>0</th>\n",
       "      <td>id</td>\n",
       "      <td>0</td>\n",
       "    </tr>\n",
       "    <tr>\n",
       "      <th>1</th>\n",
       "      <td>grp</td>\n",
       "      <td>0</td>\n",
       "    </tr>\n",
       "  </tbody>\n",
       "</table style=\"display:inline\"></td></th><th style=\"text-align:center\"><td style=\"vertical-align:top\"><h2 style=\"text-align: center;\">active</h2><table style=\"display:inline\" border=\"1\" class=\"dataframe\">\n",
       "  <thead>\n",
       "    <tr style=\"text-align: right;\">\n",
       "      <th></th>\n",
       "      <th>index</th>\n",
       "      <th>0</th>\n",
       "    </tr>\n",
       "  </thead>\n",
       "  <tbody>\n",
       "    <tr>\n",
       "      <th>0</th>\n",
       "      <td>student_id</td>\n",
       "      <td>0</td>\n",
       "    </tr>\n",
       "  </tbody>\n",
       "</table style=\"display:inline\"></td></th><th style=\"text-align:center\"><td style=\"vertical-align:top\"><h2 style=\"text-align: center;\">checks</h2><table style=\"display:inline\" border=\"1\" class=\"dataframe\">\n",
       "  <thead>\n",
       "    <tr style=\"text-align: right;\">\n",
       "      <th></th>\n",
       "      <th>index</th>\n",
       "      <th>0</th>\n",
       "    </tr>\n",
       "  </thead>\n",
       "  <tbody>\n",
       "    <tr>\n",
       "      <th>0</th>\n",
       "      <td>student_id</td>\n",
       "      <td>0</td>\n",
       "    </tr>\n",
       "    <tr>\n",
       "      <th>1</th>\n",
       "      <td>rev</td>\n",
       "      <td>0</td>\n",
       "    </tr>\n",
       "  </tbody>\n",
       "</table style=\"display:inline\"></td></th>"
      ]
     },
     "metadata": {},
     "output_type": "display_data"
    }
   ],
   "source": [
    "display_side_by_side(groups.isnull().sum().reset_index(),\n",
    "                        gr_add.isnull().sum().reset_index(),\n",
    "                        active.isnull().sum().reset_index(),\n",
    "                        checks.isnull().sum().reset_index(),\n",
    "                        titles=['groups', 'gr_add','active', 'checks'])"
   ]
  },
  {
   "cell_type": "markdown",
   "metadata": {},
   "source": [
    "__Вывод:__      \n",
    "Пропущенных значений нет!"
   ]
  },
  {
   "cell_type": "markdown",
   "metadata": {},
   "source": [
    "- [x] __Объединяем и анализируем данные всех датасетов__\n",
    "--------------"
   ]
  },
  {
   "cell_type": "markdown",
   "metadata": {},
   "source": [
    "__Переименовываем столбцы student_id в id__ \n",
    "____________________"
   ]
  },
  {
   "cell_type": "code",
   "execution_count": 6,
   "metadata": {},
   "outputs": [],
   "source": [
    "checks = checks.rename(columns={'student_id':'id'})\n",
    "active = active.rename(columns={'student_id':'id'})"
   ]
  },
  {
   "cell_type": "markdown",
   "metadata": {},
   "source": [
    "\n",
    "__Объединяем основной дата-сет с пользователями (groups) с дополнительным(gr_add), который прислали спустя 2 дня.__     \n",
    "________________"
   ]
  },
  {
   "cell_type": "code",
   "execution_count": 8,
   "metadata": {},
   "outputs": [],
   "source": [
    "combined_groups  = pd.concat([groups, gr_add],ignore_index=True, sort=False)"
   ]
  },
  {
   "cell_type": "markdown",
   "metadata": {},
   "source": [
    "__Сразу проверяем правильно ли мы объеденили, сравнивая сумму строк датасетов groups и gr_add с combined_groups.__\n",
    "_____________________"
   ]
  },
  {
   "cell_type": "code",
   "execution_count": 9,
   "metadata": {},
   "outputs": [
    {
     "name": "stdout",
     "output_type": "stream",
     "text": [
      "Разница между суммой двух датасетов (groups и gr_add) и склееным датасетом combined_groups: \n",
      "\n",
      "groups ( 74484 ) + gr_add ( 92 ) - combined_groups ( 74576 ) = 0\n"
     ]
    }
   ],
   "source": [
    "print('Разница между суммой двух датасетов (groups и gr_add) и склееным датасетом combined_groups: \\n')\n",
    "print('groups (',groups.shape[0],')'' + gr_add (',gr_add.shape[0],') - combined_groups (',combined_groups.shape[0],') =',\n",
    "      groups.shape[0] + gr_add.shape[0] - combined_groups.shape[0] )"
   ]
  },
  {
   "cell_type": "code",
   "execution_count": 10,
   "metadata": {},
   "outputs": [
    {
     "data": {
      "text/plain": [
       "id     74576\n",
       "grp        2\n",
       "dtype: int64"
      ]
     },
     "execution_count": 10,
     "metadata": {},
     "output_type": "execute_result"
    }
   ],
   "source": [
    "combined_groups.nunique()"
   ]
  },
  {
   "cell_type": "markdown",
   "metadata": {},
   "source": [
    "__Вывод:__   \n",
    "Разница равна 0, количество уникальных значений сохранено - объеденили верно!"
   ]
  },
  {
   "cell_type": "markdown",
   "metadata": {},
   "source": [
    "__Объединяем все данные в единый датасет:__   \n",
    "______________\n",
    " - Создаем булевую колонку, присвающее значе True - пользователям которые заходили на платформу и False - обратное, путем сравнение id датасета \"combined_groups\" c id датасета \"ative\"(предоставляющий данные о пользователях заходивших на платформу)   \n",
    " - Объединяем полученный датасет и checks."
   ]
  },
  {
   "cell_type": "code",
   "execution_count": 11,
   "metadata": {},
   "outputs": [],
   "source": [
    "combined_groups['active'] = np.isin(combined_groups['id'], active['id']).tolist()\n",
    "Full_data = combined_groups.merge(checks, how = 'left', on = 'id' )"
   ]
  },
  {
   "cell_type": "markdown",
   "metadata": {},
   "source": [
    "__Сразу проверяем правильно ли мы объеденили,сравнивая суммы строк датасетов__\n",
    "________________________"
   ]
  },
  {
   "cell_type": "code",
   "execution_count": 12,
   "metadata": {},
   "outputs": [
    {
     "name": "stdout",
     "output_type": "stream",
     "text": [
      "Разница между значениями кол-ва активных студентов в склееном датасете(Full_data) и изначальном датасете (active): \n",
      "\n",
      "Full_data ( 74576 ) - combined_groups ( 74576 ) = 0 \n",
      "\n",
      "Разница между значениями кол-ва активных студентов в склееном датасете(Full_data) и изначальном датасете (active): \n",
      "\n",
      "Full_data ( 8341 ) - active ( 8341 ) = 0 \n",
      "\n",
      "Разница между значениями кол-ва платящих студентов в склееном датасете(Full_data) и изначальном датасете (checks): \n",
      "\n",
      "Full_data ( 541 ) - checks ( 541 ) = 0 \n",
      "\n"
     ]
    }
   ],
   "source": [
    "print('Разница между значениями кол-ва активных студентов в склееном датасете(Full_data) и изначальном датасете (active): \\n')\n",
    "print('Full_data (',Full_data.shape[0],')'' - combined_groups (',combined_groups.shape[0],') =',\n",
    "      Full_data.shape[0] - combined_groups.shape[0], '\\n')\n",
    "\n",
    "\n",
    "print('Разница между значениями кол-ва активных студентов в склееном датасете(Full_data) и изначальном датасете (active): \\n')\n",
    "print('Full_data (',Full_data.query('active == True').shape[0],')'' - active (',active.shape[0],') =',\n",
    "      Full_data.query('active == True').shape[0] - active.shape[0], '\\n')\n",
    "\n",
    "print('Разница между значениями кол-ва платящих студентов в склееном датасете(Full_data) и изначальном датасете (checks): \\n')\n",
    "print('Full_data (',Full_data.query('rev > 0').shape[0],')'' - checks (',checks.shape[0],') =',\n",
    "      Full_data.query('rev > 0').shape[0] - checks.shape[0], '\\n')\n"
   ]
  },
  {
   "cell_type": "markdown",
   "metadata": {},
   "source": [
    "__Вывод:__   \n",
    "Разница равна 0 - объеденили верно!"
   ]
  },
  {
   "cell_type": "markdown",
   "metadata": {},
   "source": [
    "__Проверяем на ошибки полный датасет__\n",
    "________________"
   ]
  },
  {
   "cell_type": "code",
   "execution_count": 13,
   "metadata": {},
   "outputs": [
    {
     "data": {
      "text/plain": [
       "array([ 690.    ,  630.    ,  580.    ,  290.    , 1140.    ,  990.    ,\n",
       "        199.    , 1900.    , 1980.    , 1180.    ,  840.    , 1900.0001,\n",
       "        398.    ])"
      ]
     },
     "execution_count": 13,
     "metadata": {},
     "output_type": "execute_result"
    }
   ],
   "source": [
    "Full_data.query('active == False & rev > 0').rev.unique()"
   ]
  },
  {
   "cell_type": "code",
   "execution_count": 14,
   "metadata": {},
   "outputs": [
    {
     "data": {
      "text/html": [
       "<div>\n",
       "<style scoped>\n",
       "    .dataframe tbody tr th:only-of-type {\n",
       "        vertical-align: middle;\n",
       "    }\n",
       "\n",
       "    .dataframe tbody tr th {\n",
       "        vertical-align: top;\n",
       "    }\n",
       "\n",
       "    .dataframe thead th {\n",
       "        text-align: right;\n",
       "    }\n",
       "</style>\n",
       "<table border=\"1\" class=\"dataframe\">\n",
       "  <thead>\n",
       "    <tr style=\"text-align: right;\">\n",
       "      <th></th>\n",
       "      <th>grp</th>\n",
       "      <th>active</th>\n",
       "    </tr>\n",
       "  </thead>\n",
       "  <tbody>\n",
       "    <tr>\n",
       "      <th>0</th>\n",
       "      <td>A</td>\n",
       "      <td>29</td>\n",
       "    </tr>\n",
       "    <tr>\n",
       "      <th>1</th>\n",
       "      <td>B</td>\n",
       "      <td>120</td>\n",
       "    </tr>\n",
       "  </tbody>\n",
       "</table>\n",
       "</div>"
      ],
      "text/plain": [
       "  grp  active\n",
       "0   A      29\n",
       "1   B     120"
      ]
     },
     "execution_count": 14,
     "metadata": {},
     "output_type": "execute_result"
    }
   ],
   "source": [
    "Full_data.query('active == False & rev > 0')\\\n",
    "    .groupby('grp',as_index=False)\\\n",
    "    .agg({'active':'count'})"
   ]
  },
  {
   "cell_type": "markdown",
   "metadata": {},
   "source": [
    "__Обнаружил, что в нашем общем датасете есть пользователи, которых система регистрирует как незаходящих на платформу (149 пользователей), НО! при этом фиксируется факт оплаты.__"
   ]
  },
  {
   "cell_type": "markdown",
   "metadata": {},
   "source": [
    "__Вывод:__  \n",
    "Проанализоровав данные этих пользователей, выявил, что эти пользователи распределены не равномерно между группами, большинство (120) пользователей принадлежит целевой группе, а 29 пользователей контрольной. Так же суммы оплаты имеют разные значения - 13 уникальных значений.\n",
    "\n",
    "1) Система дала сбой и не зафиксировала факт посещения платформы.\n",
    "\n",
    "2) Транзакция была зафиксирована уже после введения новой фичи.\n",
    "\n",
    "2) Оплата с других ресурсов, либо автоматическое списание.\n",
    "\n",
    "Не владеем полным спеком данных и возможности обговорить с заказчиком, считаю, что раз уж количество пользователей имеет большой перевес в сторону целевой группы - то это может повлиять на данные. Далее будем игнорировать эти данные."
   ]
  },
  {
   "cell_type": "markdown",
   "metadata": {},
   "source": [
    "__Проверим на пропущенные значения полный датасет.__\n",
    "_______________"
   ]
  },
  {
   "cell_type": "code",
   "execution_count": 15,
   "metadata": {},
   "outputs": [
    {
     "data": {
      "text/plain": [
       "id            0\n",
       "grp           0\n",
       "active        0\n",
       "rev       74035\n",
       "dtype: int64"
      ]
     },
     "execution_count": 15,
     "metadata": {},
     "output_type": "execute_result"
    }
   ],
   "source": [
    "Full_data.isnull().sum()"
   ]
  },
  {
   "cell_type": "markdown",
   "metadata": {},
   "source": [
    "__Вывод:__   \n",
    "Объединяя наши датасеты, у нас появились пропущенные (это связано с тем, что мы добавили доход с каждого пользователя, но многие не платили).   \n",
    "Заменим значения Nan в rev на нули и создадим булевую колонку (1 - была покупка, 0 - нет) для удобства расчётов."
   ]
  },
  {
   "cell_type": "code",
   "execution_count": 16,
   "metadata": {},
   "outputs": [],
   "source": [
    "Full_data['purchase']=np.where(Full_data.rev.isna(), 0, 1) \n",
    "Full_data.rev.fillna(0, inplace=True)"
   ]
  },
  {
   "cell_type": "markdown",
   "metadata": {},
   "source": [
    "__Вывод__    \n",
    "Датасет готов к анализу!"
   ]
  },
  {
   "cell_type": "markdown",
   "metadata": {},
   "source": [
    "- [x] __Определение, анализ и А/Bтестирование метрик__\n",
    "_________________\n",
    "\n",
    "Тестируем новую механику оплаты - рассмотрим две важные метрики \"Conversion Rate\" и \"Average Order Value\""
   ]
  },
  {
   "cell_type": "markdown",
   "metadata": {},
   "source": [
    "__Перейдём к расчёту CR :__\n",
    "_________________"
   ]
  },
  {
   "cell_type": "markdown",
   "metadata": {},
   "source": [
    " - Возьмем только пользолвателей посетивших платформу во время проведения эксперимента.   \n",
    " - Создадим новую колонку, куда поместим посетивших и совершивших оплату пользователей.\n",
    " - Посчитаем CR."
   ]
  },
  {
   "cell_type": "code",
   "execution_count": 17,
   "metadata": {},
   "outputs": [
    {
     "data": {
      "text/html": [
       "<div>\n",
       "<style scoped>\n",
       "    .dataframe tbody tr th:only-of-type {\n",
       "        vertical-align: middle;\n",
       "    }\n",
       "\n",
       "    .dataframe tbody tr th {\n",
       "        vertical-align: top;\n",
       "    }\n",
       "\n",
       "    .dataframe thead th {\n",
       "        text-align: right;\n",
       "    }\n",
       "</style>\n",
       "<table border=\"1\" class=\"dataframe\">\n",
       "  <thead>\n",
       "    <tr style=\"text-align: right;\">\n",
       "      <th></th>\n",
       "      <th>grp</th>\n",
       "      <th>visitors</th>\n",
       "      <th>payment</th>\n",
       "      <th>conv_rate</th>\n",
       "    </tr>\n",
       "  </thead>\n",
       "  <tbody>\n",
       "    <tr>\n",
       "      <th>0</th>\n",
       "      <td>A</td>\n",
       "      <td>1538</td>\n",
       "      <td>78</td>\n",
       "      <td>5.07</td>\n",
       "    </tr>\n",
       "    <tr>\n",
       "      <th>1</th>\n",
       "      <td>B</td>\n",
       "      <td>6803</td>\n",
       "      <td>314</td>\n",
       "      <td>4.62</td>\n",
       "    </tr>\n",
       "  </tbody>\n",
       "</table>\n",
       "</div>"
      ],
      "text/plain": [
       "  grp  visitors  payment  conv_rate\n",
       "0   A      1538       78       5.07\n",
       "1   B      6803      314       4.62"
      ]
     },
     "execution_count": 17,
     "metadata": {},
     "output_type": "execute_result"
    }
   ],
   "source": [
    "CR = Full_data.query('active==True')\\\n",
    "    .groupby('grp', as_index=False) \\\n",
    "    .agg({'active':'count'})\\\n",
    "    .rename(columns = {'active':'visitors'})\n",
    "\n",
    "CR['payment'] = Full_data.query('active==True & rev > 0')\\\n",
    "                .groupby('grp')\\\n",
    "                .agg({'active':'count'})\\\n",
    "                .active.to_list()\n",
    "\n",
    "CR['conv_rate'] = round((CR.payment / CR.visitors) * 100, 2)\n",
    "CR"
   ]
  },
  {
   "cell_type": "markdown",
   "metadata": {},
   "source": [
    "__Визиализируем полученные CR__\n",
    "______________________"
   ]
  },
  {
   "cell_type": "code",
   "execution_count": 18,
   "metadata": {},
   "outputs": [
    {
     "data": {
      "text/plain": [
       "Text(0.5, 1.0, 'conv_rate A vs B')"
      ]
     },
     "execution_count": 18,
     "metadata": {},
     "output_type": "execute_result"
    },
    {
     "data": {
      "image/png": "[encoded data removed]",
      "text/plain": [
       "<Figure size 640x480 with 1 Axes>"
      ]
     },
     "metadata": {},
     "output_type": "display_data"
    }
   ],
   "source": [
    "sns.barplot(x=\"grp\", y=\"conv_rate\", data=CR).set_title(\"conv_rate A vs B\")"
   ]
  },
  {
   "cell_type": "markdown",
   "metadata": {},
   "source": [
    "__Вывод__   \n",
    "Наблюдаем, что конверсия в покупку между группами имеет небольшую разность."
   ]
  },
  {
   "cell_type": "markdown",
   "metadata": {},
   "source": [
    "__A/B - тестирование CR метрики__   \n",
    "Определяем статистически значимо различаются конверсии в покупку.    \n",
    "__Определяем гипотезы__   \n",
    "Нулевая гипотеза (H0): Разницы между конверсией в покупку в тестовой и контрольной группе нет.    \n",
    "Альтернативная гипотеза (H1): Разница между конверсией в покупку в тестовой и контрольной группе есть.\n",
    "\n",
    "__P.S.__ Так как данные (purchase и grp) являются категориальными переменными, то будем использовать  t-тест и тест Хи-квадрат!"
   ]
  },
  {
   "cell_type": "markdown",
   "metadata": {},
   "source": [
    "__Создадим новые переменные, где разобъем пользователей на группы и возьмём только тех кто совершил оплату:__\n",
    "______________"
   ]
  },
  {
   "cell_type": "code",
   "execution_count": 19,
   "metadata": {},
   "outputs": [],
   "source": [
    "AB_test_A = Full_data.query('active==True & grp == \"A\"')\n",
    "AB_test_B = Full_data.query('active==True & grp == \"B\"')"
   ]
  },
  {
   "cell_type": "code",
   "execution_count": 20,
   "metadata": {},
   "outputs": [
    {
     "data": {
      "text/plain": [
       "Ttest_indResult(statistic=0.7629235937766906, pvalue=0.445530545137386)"
      ]
     },
     "execution_count": 20,
     "metadata": {},
     "output_type": "execute_result"
    }
   ],
   "source": [
    " ttest_ind(AB_test_A.purchase, AB_test_B.purchase)"
   ]
  },
  {
   "cell_type": "code",
   "execution_count": 21,
   "metadata": {},
   "outputs": [],
   "source": [
    "expected, observed, stats = chi2_independence(Full_data.query('active==True'), x='purchase', y='grp')"
   ]
  },
  {
   "cell_type": "code",
   "execution_count": 22,
   "metadata": {},
   "outputs": [
    {
     "data": {
      "text/html": [
       "<th style=\"text-align:center\"><td style=\"vertical-align:top\"><h2 style=\"text-align: center;\">Наблюдаемые значения</h2><table style=\"display:inline\" border=\"1\" class=\"dataframe\">\n",
       "  <thead>\n",
       "    <tr style=\"text-align: right;\">\n",
       "      <th>grp</th>\n",
       "      <th>A</th>\n",
       "      <th>B</th>\n",
       "    </tr>\n",
       "    <tr>\n",
       "      <th>purchase</th>\n",
       "      <th></th>\n",
       "      <th></th>\n",
       "    </tr>\n",
       "  </thead>\n",
       "  <tbody>\n",
       "    <tr>\n",
       "      <th>0</th>\n",
       "      <td>1465.718979</td>\n",
       "      <td>6483.281021</td>\n",
       "    </tr>\n",
       "    <tr>\n",
       "      <th>1</th>\n",
       "      <td>72.281021</td>\n",
       "      <td>319.718979</td>\n",
       "    </tr>\n",
       "  </tbody>\n",
       "</table style=\"display:inline\"></td></th><th style=\"text-align:center\"><td style=\"vertical-align:top\"><h2 style=\"text-align: center;\">Ожидаемые значения</h2><table style=\"display:inline\" border=\"1\" class=\"dataframe\">\n",
       "  <thead>\n",
       "    <tr style=\"text-align: right;\">\n",
       "      <th>grp</th>\n",
       "      <th>A</th>\n",
       "      <th>B</th>\n",
       "    </tr>\n",
       "    <tr>\n",
       "      <th>purchase</th>\n",
       "      <th></th>\n",
       "      <th></th>\n",
       "    </tr>\n",
       "  </thead>\n",
       "  <tbody>\n",
       "    <tr>\n",
       "      <th>0</th>\n",
       "      <td>1460.5</td>\n",
       "      <td>6488.5</td>\n",
       "    </tr>\n",
       "    <tr>\n",
       "      <th>1</th>\n",
       "      <td>77.5</td>\n",
       "      <td>314.5</td>\n",
       "    </tr>\n",
       "  </tbody>\n",
       "</table style=\"display:inline\"></td></th>"
      ]
     },
     "metadata": {},
     "output_type": "display_data"
    }
   ],
   "source": [
    "display_side_by_side(expected, observed,\n",
    "                    titles=['Наблюдаемые значения', 'Ожидаемые значения'])\n"
   ]
  },
  {
   "cell_type": "code",
   "execution_count": 23,
   "metadata": {},
   "outputs": [
    {
     "data": {
      "text/html": [
       "<div>\n",
       "<style scoped>\n",
       "    .dataframe tbody tr th:only-of-type {\n",
       "        vertical-align: middle;\n",
       "    }\n",
       "\n",
       "    .dataframe tbody tr th {\n",
       "        vertical-align: top;\n",
       "    }\n",
       "\n",
       "    .dataframe thead th {\n",
       "        text-align: right;\n",
       "    }\n",
       "</style>\n",
       "<table border=\"1\" class=\"dataframe\">\n",
       "  <thead>\n",
       "    <tr style=\"text-align: right;\">\n",
       "      <th></th>\n",
       "      <th>test</th>\n",
       "      <th>lambda</th>\n",
       "      <th>chi2</th>\n",
       "      <th>dof</th>\n",
       "      <th>pval</th>\n",
       "      <th>cramer</th>\n",
       "      <th>power</th>\n",
       "    </tr>\n",
       "  </thead>\n",
       "  <tbody>\n",
       "    <tr>\n",
       "      <th>0</th>\n",
       "      <td>pearson</td>\n",
       "      <td>1.000000</td>\n",
       "      <td>0.484808</td>\n",
       "      <td>1.0</td>\n",
       "      <td>0.486252</td>\n",
       "      <td>0.007624</td>\n",
       "      <td>0.107123</td>\n",
       "    </tr>\n",
       "    <tr>\n",
       "      <th>1</th>\n",
       "      <td>cressie-read</td>\n",
       "      <td>0.666667</td>\n",
       "      <td>0.482018</td>\n",
       "      <td>1.0</td>\n",
       "      <td>0.487510</td>\n",
       "      <td>0.007602</td>\n",
       "      <td>0.106787</td>\n",
       "    </tr>\n",
       "    <tr>\n",
       "      <th>2</th>\n",
       "      <td>log-likelihood</td>\n",
       "      <td>0.000000</td>\n",
       "      <td>0.476541</td>\n",
       "      <td>1.0</td>\n",
       "      <td>0.489993</td>\n",
       "      <td>0.007559</td>\n",
       "      <td>0.106127</td>\n",
       "    </tr>\n",
       "    <tr>\n",
       "      <th>3</th>\n",
       "      <td>freeman-tukey</td>\n",
       "      <td>-0.500000</td>\n",
       "      <td>0.472522</td>\n",
       "      <td>1.0</td>\n",
       "      <td>0.491829</td>\n",
       "      <td>0.007527</td>\n",
       "      <td>0.105643</td>\n",
       "    </tr>\n",
       "    <tr>\n",
       "      <th>4</th>\n",
       "      <td>mod-log-likelihood</td>\n",
       "      <td>-1.000000</td>\n",
       "      <td>0.468578</td>\n",
       "      <td>1.0</td>\n",
       "      <td>0.493642</td>\n",
       "      <td>0.007495</td>\n",
       "      <td>0.105168</td>\n",
       "    </tr>\n",
       "    <tr>\n",
       "      <th>5</th>\n",
       "      <td>neyman</td>\n",
       "      <td>-2.000000</td>\n",
       "      <td>0.460909</td>\n",
       "      <td>1.0</td>\n",
       "      <td>0.497200</td>\n",
       "      <td>0.007434</td>\n",
       "      <td>0.104245</td>\n",
       "    </tr>\n",
       "  </tbody>\n",
       "</table>\n",
       "</div>"
      ],
      "text/plain": [
       "                 test    lambda      chi2  dof      pval    cramer     power\n",
       "0             pearson  1.000000  0.484808  1.0  0.486252  0.007624  0.107123\n",
       "1        cressie-read  0.666667  0.482018  1.0  0.487510  0.007602  0.106787\n",
       "2      log-likelihood  0.000000  0.476541  1.0  0.489993  0.007559  0.106127\n",
       "3       freeman-tukey -0.500000  0.472522  1.0  0.491829  0.007527  0.105643\n",
       "4  mod-log-likelihood -1.000000  0.468578  1.0  0.493642  0.007495  0.105168\n",
       "5              neyman -2.000000  0.460909  1.0  0.497200  0.007434  0.104245"
      ]
     },
     "execution_count": 23,
     "metadata": {},
     "output_type": "execute_result"
    }
   ],
   "source": [
    "stats"
   ]
  },
  {
   "cell_type": "markdown",
   "metadata": {},
   "source": [
    "__Вывод__\n",
    " - Получили значения pvalue, которое превышает значение 0.05. Это означет, что статистически мы подтвердили, что оснований отклонить гипотезу H0 у нас нет.\n",
    " - Так же наблюдаем низкие значения мощности ~ 11%. Данные низкие значения мощности говорят нам о том, что мы имеем высокие (89%) шансы столкнуться с ошибкой 2 рода. Иными словами: на 89% мы столкнулись с \"Ложноотрицательным решением\". "
   ]
  },
  {
   "cell_type": "markdown",
   "metadata": {},
   "source": [
    "__Перейдём к расчёт Average Order Value — средний чек__\n",
    "_____________"
   ]
  },
  {
   "cell_type": "code",
   "execution_count": 24,
   "metadata": {},
   "outputs": [
    {
     "name": "stdout",
     "output_type": "stream",
     "text": [
      "группа А : 933.59 Группа B : 1257.88\n"
     ]
    }
   ],
   "source": [
    "AOV_A = AB_test_A.query('purchase == 1').rev.mean().round(2)\n",
    "AOV_B = AB_test_B.query('purchase == 1').rev.mean().round(2)\n",
    "print('группа А :', AOV_A, 'Группа B :',AOV_B )"
   ]
  },
  {
   "cell_type": "markdown",
   "metadata": {},
   "source": [
    "__Рассмотрим количества значений чеков__"
   ]
  },
  {
   "cell_type": "code",
   "execution_count": 25,
   "metadata": {},
   "outputs": [
    {
     "data": {
      "text/plain": [
       "290.0     25\n",
       "580.0      6\n",
       "990.0      5\n",
       "199.0      5\n",
       "590.0      5\n",
       "690.0      4\n",
       "3660.0     3\n",
       "1530.0     3\n",
       "840.0      3\n",
       "2820.0     2\n",
       "1140.0     2\n",
       "2910.0     2\n",
       "489.0      2\n",
       "1160.0     2\n",
       "1039.0     1\n",
       "2890.0     1\n",
       "2220.0     1\n",
       "1180.0     1\n",
       "398.0      1\n",
       "1830.0     1\n",
       "1980.0     1\n",
       "2900.0     1\n",
       "870.0      1\n",
       "Name: rev, dtype: int64"
      ]
     },
     "execution_count": 25,
     "metadata": {},
     "output_type": "execute_result"
    }
   ],
   "source": [
    "AB_test_A.query('purchase == 1').rev.value_counts()"
   ]
  },
  {
   "cell_type": "code",
   "execution_count": 26,
   "metadata": {},
   "outputs": [
    {
     "data": {
      "text/plain": [
       "1900.0000    93\n",
       "290.0000     45\n",
       "1900.0001    35\n",
       "199.0000     27\n",
       "840.0000     21\n",
       "990.0000     17\n",
       "690.0000     13\n",
       "1140.0000     9\n",
       "398.0000      6\n",
       "590.0000      6\n",
       "580.0000      5\n",
       "870.0000      5\n",
       "1530.0000     5\n",
       "2890.0000     3\n",
       "2099.0000     3\n",
       "3660.0000     2\n",
       "1980.0000     2\n",
       "2910.0000     2\n",
       "597.0000      1\n",
       "1339.0000     1\n",
       "489.0000      1\n",
       "1968.0000     1\n",
       "1050.0000     1\n",
       "2220.0000     1\n",
       "880.0000      1\n",
       "1388.0000     1\n",
       "1729.0000     1\n",
       "2190.0000     1\n",
       "4650.0000     1\n",
       "796.0000      1\n",
       "3040.0000     1\n",
       "3260.0000     1\n",
       "1160.0000     1\n",
       "Name: rev, dtype: int64"
      ]
     },
     "execution_count": 26,
     "metadata": {},
     "output_type": "execute_result"
    }
   ],
   "source": [
    "AB_test_B.query('purchase == 1').rev.value_counts()"
   ]
  },
  {
   "cell_type": "markdown",
   "metadata": {},
   "source": [
    "__Визуализируем AOV__\n",
    "_______________"
   ]
  },
  {
   "cell_type": "code",
   "execution_count": 28,
   "metadata": {},
   "outputs": [
    {
     "data": {
      "image/png": "[encoded data removed]",
      "text/plain": [
       "<Figure size 700x500 with 1 Axes>"
      ]
     },
     "metadata": {},
     "output_type": "display_data"
    }
   ],
   "source": [
    "plt.figure(figsize=(7, 5))\n",
    "ax = sns.boxplot(x='grp',\n",
    "            y='rev',\n",
    "            data=Full_data.query('active==True & purchase == 1'))\n",
    "plt.ylabel(\"Средний чек\", size=14)\n",
    "plt.xlabel(\"Группа\", size=14)\n",
    "plt.title(\"Средний чек групп А vs B\", size=18)\n",
    "plt.show()"
   ]
  },
  {
   "cell_type": "code",
   "execution_count": 29,
   "metadata": {},
   "outputs": [
    {
     "data": {
      "text/plain": [
       "<Axes: xlabel='rev', ylabel='Density'>"
      ]
     },
     "execution_count": 29,
     "metadata": {},
     "output_type": "execute_result"
    },
    {
     "data": {
      "image/png": "[encoded data removed]",
      "text/plain": [
       "<Figure size 640x480 with 1 Axes>"
      ]
     },
     "metadata": {},
     "output_type": "display_data"
    }
   ],
   "source": [
    "sns.distplot(np.log(AB_test_B.query('purchase == 1').rev))\n",
    "sns.distplot(np.log(AB_test_A.query('purchase == 1').rev))"
   ]
  },
  {
   "cell_type": "markdown",
   "metadata": {},
   "source": [
    "__По боксплоту можем сделать несколько выводов:__\n",
    " - В обеих группах замечаны выбросы\n",
    " - Медианы имею различие\n",
    " - AOV в группе B имеет больший межквартильный размах\n",
    " - Распределение является не нормальным \n",
    " \n",
    "Анализируя сделаные выводы, приходим к выводу, что нам нужно использовать __Вootstrap__."
   ]
  },
  {
   "cell_type": "markdown",
   "metadata": {},
   "source": [
    "__Вootstrap__\n",
    "______________"
   ]
  },
  {
   "cell_type": "markdown",
   "metadata": {},
   "source": [
    "__Гипотезы__   \n",
    "H0 - разницы между средними значениями среднего чека двух групп нет;    \n",
    "H1 - разница между средними значениями есть"
   ]
  },
  {
   "cell_type": "code",
   "execution_count": 30,
   "metadata": {},
   "outputs": [],
   "source": [
    "def get_bootstrap(\n",
    "    data_column_1, # числовые значения первой выборки\n",
    "    data_column_2, # числовые значения второй выборки\n",
    "    boot_it = 1000, # количество бутстрэп-подвыборок\n",
    "    statistic = np.mean, # интересующая нас статистика\n",
    "    bootstrap_conf_level = 0.95 # уровень значимости\n",
    "):\n",
    "    boot_data = []\n",
    "    for i in tqdm(range(boot_it)): # извлекаем подвыборки\n",
    "        samples_1 = data_column_1.sample(\n",
    "            len(data_column_1), \n",
    "            replace = True # параметр возвращения\n",
    "        ).values\n",
    "        \n",
    "        samples_2 = data_column_2.sample(\n",
    "            len(data_column_1), \n",
    "            replace = True\n",
    "        ).values\n",
    "        \n",
    "        boot_data.append(statistic(samples_1)-statistic(samples_2)) # mean() - применяем статистику\n",
    "        \n",
    "    pd_boot_data = pd.DataFrame(boot_data)\n",
    "        \n",
    "    left_quant = (1 - bootstrap_conf_level)/2\n",
    "    right_quant = 1 - (1 - bootstrap_conf_level) / 2\n",
    "    quants = pd_boot_data.quantile([left_quant, right_quant])\n",
    "        \n",
    "    p_1 = norm.cdf(\n",
    "        x = 0, \n",
    "        loc = np.mean(boot_data), \n",
    "        scale = np.std(boot_data)\n",
    "    )\n",
    "    p_2 = norm.cdf(\n",
    "        x = 0, \n",
    "        loc = -np.mean(boot_data), \n",
    "        scale = np.std(boot_data)\n",
    "    )\n",
    "    p_value = min(p_1, p_2) * 2\n",
    "        \n",
    "    # Визуализация\n",
    "    _, _, bars = plt.hist(pd_boot_data[0], bins = 50)\n",
    "    for bar in bars:\n",
    "        if bar.get_x() <= quants.iloc[0][0] or bar.get_x() >= quants.iloc[1][0]:\n",
    "            bar.set_facecolor('red')\n",
    "        else: \n",
    "            bar.set_facecolor('grey')\n",
    "            bar.set_edgecolor('black')\n",
    "    \n",
    "    plt.style.use('ggplot')\n",
    "    plt.vlines(quants,ymin=0,ymax=50,linestyle='--')\n",
    "    plt.xlabel('boot_data')\n",
    "    plt.ylabel('frequency')\n",
    "    plt.title(\"Histogram of boot_data\")\n",
    "    plt.show()\n",
    "       \n",
    "    return {\"boot_data\": boot_data, \n",
    "            \"quants\": quants, \n",
    "            \"p_value\": p_value}"
   ]
  },
  {
   "cell_type": "code",
   "execution_count": 31,
   "metadata": {},
   "outputs": [
    {
     "data": {
      "application/vnd.jupyter.widget-view+json": {
       "model_id": "bf4dd2fb2d6041f8b5bfb4527c1689a8",
       "version_major": 2,
       "version_minor": 0
      },
      "text/plain": [
       "  0%|          | 0/2000 [00:00<?, ?it/s]"
      ]
     },
     "metadata": {},
     "output_type": "display_data"
    },
    {
     "data": {
      "image/png": "[encoded data removed]",
      "text/plain": [
       "<Figure size 640x480 with 1 Axes>"
      ]
     },
     "metadata": {},
     "output_type": "display_data"
    },
    {
     "data": {
      "text/plain": [
       "0.01954116312282793"
      ]
     },
     "execution_count": 31,
     "metadata": {},
     "output_type": "execute_result"
    }
   ],
   "source": [
    "get_bootstrap(AB_test_A.loc[AB_test_A.purchase == 1].rev, \n",
    "              AB_test_B.loc[AB_test_B.purchase == 1].rev, \n",
    "              2000, np.mean, 0.95)['p_value']"
   ]
  },
  {
   "cell_type": "markdown",
   "metadata": {},
   "source": [
    "__Вывод__\n",
    " - При использовании Вootstrap получили значения pvalue, которое не на много ниже 0.05 и 0 не входит в доверительный интервал.      \n",
    "Это означет, что статистически мы подтвердили, что средний чек в обоих группах различается.\n"
   ]
  },
  {
   "cell_type": "markdown",
   "metadata": {},
   "source": [
    "### <b>Выводы по A/B–тестирование </b>   \n",
    "___________\n",
    "__Анализ конверсии в покупку__\n",
    " - На боксплоте мы заметили небольшие различия между группами.\n",
    " - Используя тест Хи-квадрат мы подтвердили, что оснований отклонить нулевую гипотезу (Разницы между конверсией в покупку в тестовой и контрольной группе нет) у нас нет.\n",
    " - Наблюдаем низкие значения мощности ~ 11%. Данные низкие значения мощности говорят нам о том, что мы имеем высокие (89%) шансы столкнуться с ошибкой 2 рода. Иными словами: на 89% мы столкнулись с \"Ложноотрицательным решением\". На практике принято принимать значения мощности ~ 80%, что соответсвует 20 %-му шансу совершить ошибку 2 рода. Считаю, что мы имеем дело с \"отложенным эффектом\" и из-за недостаточности размера выборок мы ошибочно оставили нулевую гипотезу. \n",
    " \n",
    "__Анализ AOV__\n",
    "  - Получили значения ср.чеков: группа А : 933.59 Группа B : 1257.88 - ср. чек тестовой группы значительно больше.\n",
    "  - Рассматривая график расределения AOV двух групп, мы наблюдаем значительные выбросы в группе В, подтверждаются они анализом количеством значений суммы покупки. Под вопрос на обсуждения попадают значения из тестовой группы (1900, 290, 1900.0001, 199). Данные значения очень похожи на какие-то ежемесячные/годовые подписки - возжно в этом и была фича новой системы оплаты. \n",
    "  - При использовании Вootstrap получили значения pvalue, которое не на много ниже 0.05 и 0 не входит в \n",
    "  доверительный интервал.Это означет, что статистически мы подтвердили, что средний чек в обоих группах различается.\n",
    "\n",
    "  \n",
    "__Общий вывод__\n",
    "Нужно поговорить с заказчиком и выяснить рост какой метрики его больше интересует.           \n",
    "Если конверсия, то считаю нужно продолжить эксперимент, при данных выборках сложно делать какие-либо выводы и уж точно рано говорить о внедрении новой механики оплаты.              \n",
    "Если средний чек, то данные эксперимента - подтверждают различая в группах и в тестовой группе со средним чеком лучше, следует можно вводить новую механику!            \n",
    "С заказчиком нужно обсудить несколько моментов: \n",
    "Мощность в анализе конверсии в покупку - необходимо определиться с каким порогом мощности он будет согласен (а точнее шансом совершить ошибку 2 рода) и продолжить эксперемент;\n",
    "Обсудить возможные возникновения багов в системы - \"Не заходили,Но! оплатили\"; \n",
    "А так же обсудить обнаруженные значения \"выбросы\" из тестовой группы (1900, 290, 1900.0001, 199)."
   ]
  },
  {
   "cell_type": "markdown",
   "metadata": {},
   "source": [
    "### <b>Функция подгрузки</b> \n",
    "\n",
    "__Реализуем функцию, которая:__ \n",
    "________________________\n",
    "\n",
    " - Автоматически подгружает информацию из дополнительного файла;\n",
    " - Пересчитывает метрики;\n",
    " - Строит графики по получаемым метрикам.\n"
   ]
  },
  {
   "cell_type": "code",
   "execution_count": 32,
   "metadata": {},
   "outputs": [],
   "source": [
    "def additional (path:str, id_column:str, group_column:str):\n",
    "    \n",
    "    # Загрузка основных дата-сетов\n",
    "    groups=pd.read_csv('groups.csv', sep =';')\n",
    "    active=pd.read_csv('active_studs.csv', sep =';')\n",
    "    checks=pd.read_csv('checks.csv', sep =';')\n",
    "\n",
    "    \n",
    "    # Меняем названия колонок (если прислали отличные от исходных)\n",
    "    gr_add.rename(columns = {id_column:'id', group_column:'grp'}, \n",
    "                                inplace = True)\n",
    "\n",
    "    # ––––Склеивание––––––\n",
    "    # Склеивание основного дата-сета и дополнительного\n",
    "    combined_groups = pd.concat([groups, gr_add],\n",
    "                               ignore_index=True, sort=False)\n",
    "    \n",
    "    # Меняем название колонок, для удобства\n",
    "    checks = checks.rename(columns={'student_id':'id'})\n",
    "    active = active.rename(columns={'student_id':'id'})\n",
    "    \n",
    "    # Объединяем все данные в единый датасет\n",
    "    combined_groups['active'] = np.isin(combined_groups['id'], active['id']).tolist()\n",
    "    Full_data = combined_groups.merge(checks, how = 'left', on = 'id' )\n",
    "    \n",
    "    # Заменим значения Nan в rev на нули и создадим булевую колонку\n",
    "    Full_data['purchase']=np.where(Full_data.rev.isna(), 0, 1) \n",
    "    Full_data.rev.fillna(0, inplace=True)\n",
    "\n",
    "    # Подсчёт конверсии\n",
    "    CR = Full_data.query('active==True')\\\n",
    "            .groupby('grp', as_index=False) \\\n",
    "            .agg({'active':'count'})\\\n",
    "            .rename(columns = {'active':'visitors'})\n",
    "\n",
    "    CR['payment'] = Full_data.query('active==True & rev > 0')\\\n",
    "                    .groupby('grp')\\\n",
    "                    .agg({'active':'count'})\\\n",
    "                    .active.to_list()\n",
    "\n",
    "    CR['conv_rate'] = round((CR.payment / CR.visitors) * 100, 2)\n",
    "    print('Конверсия в покупку','\\n', CR)\n",
    "    \n",
    "    # Визуализируем полученный CR\n",
    "    sns.barplot(x=\"grp\", y=\"conv_rate\", data=CR).set_title(\"conv_rate A vs B\")\n",
    "\n",
    "    \n",
    "    # Расчёт AOV\n",
    "    AOV_A = AB_test_A.query('purchase == 1').rev.mean().round(2)\n",
    "    AOV_B = AB_test_B.query('purchase == 1').rev.mean().round(2)\n",
    "    print('Средний чек','\\n','группа А :', AOV_A, 'Группа B :',AOV_B )\n",
    "    \n",
    "    #Визуализируем AOV\n",
    "    plt.figure(figsize=(10, 8))\n",
    "    ax = sns.boxplot(x='grp',\n",
    "            y='rev',\n",
    "            data=Full_data.query('active==True & purchase == 1'))\n",
    "    plt.ylabel(\"Средний чек\", size=14)\n",
    "    plt.xlabel(\"Группа\", size=14)\n",
    "    plt.title(\"Средний чек групп А vs B\", size=18)\n",
    "    plt.show()\n",
    "    \n",
    "    sns.distplot(np.log(AB_test_B.query('purchase == 1').rev))\n",
    "    sns.distplot(np.log(AB_test_A.query('purchase == 1').rev))\n",
    "\n",
    "    # Вывод данных\n",
    "    return\n"
   ]
  },
  {
   "cell_type": "code",
   "execution_count": 33,
   "metadata": {},
   "outputs": [
    {
     "name": "stdout",
     "output_type": "stream",
     "text": [
      "Конверсия в покупку \n",
      "   grp  visitors  payment  conv_rate\n",
      "0   A      1538       78       5.07\n",
      "1   B      6803      314       4.62\n",
      "Средний чек \n",
      " группа А : 933.59 Группа B : 1257.88\n"
     ]
    },
    {
     "data": {
      "image/png": "[encoded data removed]",
      "text/plain": [
       "<Figure size 640x480 with 1 Axes>"
      ]
     },
     "metadata": {},
     "output_type": "display_data"
    },
    {
     "data": {
      "image/png": "[encoded data removed]",
      "text/plain": [
       "<Figure size 1000x800 with 1 Axes>"
      ]
     },
     "metadata": {},
     "output_type": "display_data"
    },
    {
     "data": {
      "image/png": "[encoded data removed]",
      "text/plain": [
       "<Figure size 640x480 with 1 Axes>"
      ]
     },
     "metadata": {},
     "output_type": "display_data"
    }
   ],
   "source": [
    "additional('group_add.csv', 'id', 'grp')"
   ]
  }
 ],
 "metadata": {
  "kernelspec": {
   "display_name": "Python 3 (ipykernel)",
   "language": "python",
   "name": "python3"
  },
  "language_info": {
   "codemirror_mode": {
    "name": "ipython",
    "version": 3
   },
   "file_extension": ".py",
   "mimetype": "text/x-python",
   "name": "python",
   "nbconvert_exporter": "python",
   "pygments_lexer": "ipython3",
   "version": "3.11.4"
  }
 },
 "nbformat": 4,
 "nbformat_minor": 4
}
